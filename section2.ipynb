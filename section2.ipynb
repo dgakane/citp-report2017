{
 "cells": [
  {
   "cell_type": "markdown",
   "metadata": {},
   "source": [
    "# Section 2\n",
    "## ECDSAによる署名の作成と検証\n",
    "\n",
    "### アリスの署名用の秘密鍵\n"
   ]
  },
  {
   "cell_type": "code",
   "execution_count": 18,
   "metadata": {
    "collapsed": true
   },
   "outputs": [],
   "source": [
    "from ecdsa import SigningKey, VerifyingKey,\\\n",
    "    SECP256k1, BadSignatureError\n",
    "sk = SigningKey.generate(curve=SECP256k1)"
   ]
  },
  {
   "cell_type": "markdown",
   "metadata": {},
   "source": [
    "### メッセージにアリスの秘密鍵で署名する"
   ]
  },
  {
   "cell_type": "code",
   "execution_count": 19,
   "metadata": {
    "collapsed": true
   },
   "outputs": [],
   "source": [
    "msg_alice=\"\"\"\n",
    "ボブへ\n",
    "愛してる\n",
    "アリス\n",
    "\"\"\"\n",
    "vk = sk.get_verifying_key()\n",
    "signature = sk.sign(msg_alice.encode())"
   ]
  },
  {
   "cell_type": "markdown",
   "metadata": {},
   "source": [
    "### メッセージを検証する"
   ]
  },
  {
   "cell_type": "code",
   "execution_count": 20,
   "metadata": {},
   "outputs": [
    {
     "name": "stdout",
     "output_type": "stream",
     "text": [
      "===========\n",
      "\n",
      "ボブへ\n",
      "大嫌い\n",
      "アリス\n",
      "\n",
      "===========\n",
      "↑アリスが署名したものではない\n",
      "===========\n",
      "\n",
      "ボブへ\n",
      "愛してる\n",
      "アリス\n",
      "\n",
      "===========\n",
      "↑アリスが署名したもの\n"
     ]
    }
   ],
   "source": [
    "msg_mallory=\"\"\"\n",
    "ボブへ\n",
    "大嫌い\n",
    "アリス\n",
    "\"\"\"\n",
    "\n",
    "# マロリーのメッセージを検証\n",
    "print(\"===========\")\n",
    "print(msg_mallory)\n",
    "print(\"===========\")\n",
    "try:\n",
    "    vk.verify(signature, msg_mallory.encode())\n",
    "except BadSignatureError:\n",
    "    print(\"↑アリスが署名したものではない\")\n",
    "else:\n",
    "    print(\"↑アリスが署名したもの\")\n",
    "\n",
    "# アリスのメッセージを検証   \n",
    "print(\"===========\")\n",
    "print(msg_alice)\n",
    "print(\"===========\")\n",
    "try:\n",
    "    vk.verify(signature, msg_alice.encode())\n",
    "except BadSignatureError:\n",
    "    print(\"↑アリスが署名したものではない\")\n",
    "else:\n",
    "    print(\"↑アリスが署名したもの\")"
   ]
  },
  {
   "cell_type": "markdown",
   "metadata": {},
   "source": [
    "### 秘密鍵は実は数字"
   ]
  },
  {
   "cell_type": "code",
   "execution_count": 23,
   "metadata": {},
   "outputs": [
    {
     "data": {
      "text/plain": [
       "68706178332443835618448539945704802439380421476260386381443702937828037133331"
      ]
     },
     "execution_count": 23,
     "metadata": {},
     "output_type": "execute_result"
    }
   ],
   "source": [
    "sk.privkey.secret_multiplier"
   ]
  },
  {
   "cell_type": "markdown",
   "metadata": {},
   "source": [
    "### 公開鍵は実は二次元平面状の座標"
   ]
  },
  {
   "cell_type": "code",
   "execution_count": 24,
   "metadata": {},
   "outputs": [
    {
     "data": {
      "text/plain": [
       "(94218807014273643624969865231784054862575701902845054380177712446508480461020,\n",
       " 114397227390747716289924229143920105895918893263155505301719720239812069372424)"
      ]
     },
     "execution_count": 24,
     "metadata": {},
     "output_type": "execute_result"
    }
   ],
   "source": [
    "(vk.pubkey.point.x(), vk.pubkey.point.y())"
   ]
  }
 ],
 "metadata": {
  "kernelspec": {
   "display_name": "Python 3",
   "language": "python",
   "name": "python3"
  },
  "language_info": {
   "codemirror_mode": {
    "name": "ipython",
    "version": 3
   },
   "file_extension": ".py",
   "mimetype": "text/x-python",
   "name": "python",
   "nbconvert_exporter": "python",
   "pygments_lexer": "ipython3",
   "version": "3.6.0"
  }
 },
 "nbformat": 4,
 "nbformat_minor": 2
}
